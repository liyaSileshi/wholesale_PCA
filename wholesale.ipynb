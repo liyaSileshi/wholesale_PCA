{
 "cells": [
  {
   "cell_type": "markdown",
   "metadata": {},
   "source": [
    "## Read in wholesale_customers_data.csv from the datasets folder and store in a dataframe."
   ]
  },
  {
   "cell_type": "code",
   "execution_count": 125,
   "metadata": {},
   "outputs": [],
   "source": [
    "import pandas as pd\n"
   ]
  },
  {
   "cell_type": "code",
   "execution_count": 126,
   "metadata": {},
   "outputs": [
    {
     "data": {
      "text/html": [
       "<div>\n",
       "<style scoped>\n",
       "    .dataframe tbody tr th:only-of-type {\n",
       "        vertical-align: middle;\n",
       "    }\n",
       "\n",
       "    .dataframe tbody tr th {\n",
       "        vertical-align: top;\n",
       "    }\n",
       "\n",
       "    .dataframe thead th {\n",
       "        text-align: right;\n",
       "    }\n",
       "</style>\n",
       "<table border=\"1\" class=\"dataframe\">\n",
       "  <thead>\n",
       "    <tr style=\"text-align: right;\">\n",
       "      <th></th>\n",
       "      <th>Channel</th>\n",
       "      <th>Region</th>\n",
       "      <th>Fresh</th>\n",
       "      <th>Milk</th>\n",
       "      <th>Grocery</th>\n",
       "      <th>Frozen</th>\n",
       "      <th>Detergents_Paper</th>\n",
       "      <th>Delicassen</th>\n",
       "    </tr>\n",
       "  </thead>\n",
       "  <tbody>\n",
       "    <tr>\n",
       "      <th>0</th>\n",
       "      <td>2</td>\n",
       "      <td>3</td>\n",
       "      <td>12669</td>\n",
       "      <td>9656</td>\n",
       "      <td>7561</td>\n",
       "      <td>214</td>\n",
       "      <td>2674</td>\n",
       "      <td>1338</td>\n",
       "    </tr>\n",
       "    <tr>\n",
       "      <th>1</th>\n",
       "      <td>2</td>\n",
       "      <td>3</td>\n",
       "      <td>7057</td>\n",
       "      <td>9810</td>\n",
       "      <td>9568</td>\n",
       "      <td>1762</td>\n",
       "      <td>3293</td>\n",
       "      <td>1776</td>\n",
       "    </tr>\n",
       "    <tr>\n",
       "      <th>2</th>\n",
       "      <td>2</td>\n",
       "      <td>3</td>\n",
       "      <td>6353</td>\n",
       "      <td>8808</td>\n",
       "      <td>7684</td>\n",
       "      <td>2405</td>\n",
       "      <td>3516</td>\n",
       "      <td>7844</td>\n",
       "    </tr>\n",
       "    <tr>\n",
       "      <th>3</th>\n",
       "      <td>1</td>\n",
       "      <td>3</td>\n",
       "      <td>13265</td>\n",
       "      <td>1196</td>\n",
       "      <td>4221</td>\n",
       "      <td>6404</td>\n",
       "      <td>507</td>\n",
       "      <td>1788</td>\n",
       "    </tr>\n",
       "    <tr>\n",
       "      <th>4</th>\n",
       "      <td>2</td>\n",
       "      <td>3</td>\n",
       "      <td>22615</td>\n",
       "      <td>5410</td>\n",
       "      <td>7198</td>\n",
       "      <td>3915</td>\n",
       "      <td>1777</td>\n",
       "      <td>5185</td>\n",
       "    </tr>\n",
       "  </tbody>\n",
       "</table>\n",
       "</div>"
      ],
      "text/plain": [
       "   Channel  Region  Fresh  Milk  Grocery  Frozen  Detergents_Paper  Delicassen\n",
       "0        2       3  12669  9656     7561     214              2674        1338\n",
       "1        2       3   7057  9810     9568    1762              3293        1776\n",
       "2        2       3   6353  8808     7684    2405              3516        7844\n",
       "3        1       3  13265  1196     4221    6404               507        1788\n",
       "4        2       3  22615  5410     7198    3915              1777        5185"
      ]
     },
     "execution_count": 126,
     "metadata": {},
     "output_type": "execute_result"
    }
   ],
   "source": [
    "df = pd.read_csv('Wholesale customers data.csv')\n",
    "df.head()"
   ]
  },
  {
   "cell_type": "code",
   "execution_count": 127,
   "metadata": {},
   "outputs": [
    {
     "data": {
      "text/plain": [
       "<bound method NDFrame.describe of      Channel  Region  Fresh   Milk  Grocery  Frozen  Detergents_Paper  \\\n",
       "0          2       3  12669   9656     7561     214              2674   \n",
       "1          2       3   7057   9810     9568    1762              3293   \n",
       "2          2       3   6353   8808     7684    2405              3516   \n",
       "3          1       3  13265   1196     4221    6404               507   \n",
       "4          2       3  22615   5410     7198    3915              1777   \n",
       "..       ...     ...    ...    ...      ...     ...               ...   \n",
       "435        1       3  29703  12051    16027   13135               182   \n",
       "436        1       3  39228   1431      764    4510                93   \n",
       "437        2       3  14531  15488    30243     437             14841   \n",
       "438        1       3  10290   1981     2232    1038               168   \n",
       "439        1       3   2787   1698     2510      65               477   \n",
       "\n",
       "     Delicassen  \n",
       "0          1338  \n",
       "1          1776  \n",
       "2          7844  \n",
       "3          1788  \n",
       "4          5185  \n",
       "..          ...  \n",
       "435        2204  \n",
       "436        2346  \n",
       "437        1867  \n",
       "438        2125  \n",
       "439          52  \n",
       "\n",
       "[440 rows x 8 columns]>"
      ]
     },
     "execution_count": 127,
     "metadata": {},
     "output_type": "execute_result"
    }
   ],
   "source": [
    "df.describe"
   ]
  },
  {
   "cell_type": "code",
   "execution_count": 128,
   "metadata": {},
   "outputs": [
    {
     "name": "stdout",
     "output_type": "stream",
     "text": [
      "<class 'pandas.core.frame.DataFrame'>\n",
      "RangeIndex: 440 entries, 0 to 439\n",
      "Data columns (total 8 columns):\n",
      " #   Column            Non-Null Count  Dtype\n",
      "---  ------            --------------  -----\n",
      " 0   Channel           440 non-null    int64\n",
      " 1   Region            440 non-null    int64\n",
      " 2   Fresh             440 non-null    int64\n",
      " 3   Milk              440 non-null    int64\n",
      " 4   Grocery           440 non-null    int64\n",
      " 5   Frozen            440 non-null    int64\n",
      " 6   Detergents_Paper  440 non-null    int64\n",
      " 7   Delicassen        440 non-null    int64\n",
      "dtypes: int64(8)\n",
      "memory usage: 27.6 KB\n"
     ]
    }
   ],
   "source": [
    "df.info()"
   ]
  },
  {
   "cell_type": "markdown",
   "metadata": {},
   "source": [
    "## Store the Channel column in a separate variable"
   ]
  },
  {
   "cell_type": "code",
   "execution_count": 129,
   "metadata": {},
   "outputs": [
    {
     "data": {
      "text/plain": [
       "array([2, 2, 2, 1, 2, 2, 2, 2, 1, 2, 2, 2, 2, 2, 2, 1, 2, 1, 2, 1, 2, 1,\n",
       "       1, 2, 2, 2, 1, 1, 2, 1, 1, 1, 1, 1, 1, 2, 1, 2, 2, 1, 1, 1, 2, 2,\n",
       "       2, 2, 2, 2, 2, 2, 1, 1, 2, 2, 1, 1, 2, 2, 1, 1, 2, 2, 2, 2, 1, 2,\n",
       "       1, 2, 1, 1, 1, 1, 1, 2, 2, 1, 1, 2, 1, 1, 1, 2, 2, 1, 2, 2, 2, 1,\n",
       "       1, 1, 1, 1, 2, 1, 2, 1, 2, 1, 1, 1, 2, 2, 2, 1, 1, 1, 2, 2, 2, 2,\n",
       "       1, 2, 1, 1, 1, 1, 1, 1, 1, 1, 1, 1, 1, 2, 1, 1, 1, 2, 1, 1, 1, 1,\n",
       "       1, 1, 1, 1, 1, 1, 1, 1, 1, 1, 1, 1, 1, 2, 1, 1, 1, 1, 1, 1, 1, 1,\n",
       "       1, 2, 2, 1, 2, 2, 2, 1, 1, 2, 2, 2, 2, 1, 1, 1, 2, 2, 1, 2, 1, 2,\n",
       "       1, 1, 1, 1, 1, 1, 1, 1, 1, 1, 1, 1, 2, 2, 1, 1, 1, 2, 1, 1, 1, 2,\n",
       "       1, 1, 2, 2, 1, 1, 1, 2, 1, 2, 1, 2, 1, 2, 1, 1, 2, 1, 2, 1, 2, 1,\n",
       "       1, 1, 1, 2, 1, 1, 2, 1, 1, 1, 2, 1, 1, 1, 1, 1, 1, 1, 1, 1, 1, 1,\n",
       "       1, 1, 1, 2, 1, 1, 1, 1, 1, 2, 1, 1, 1, 1, 1, 1, 1, 1, 1, 1, 1, 1,\n",
       "       2, 1, 2, 1, 2, 1, 1, 1, 1, 1, 1, 1, 1, 1, 1, 2, 1, 2, 1, 1, 1, 1,\n",
       "       1, 1, 1, 1, 1, 1, 1, 2, 1, 2, 1, 2, 2, 1, 2, 2, 2, 2, 2, 2, 2, 1,\n",
       "       1, 2, 1, 1, 2, 1, 1, 2, 1, 1, 1, 2, 1, 1, 1, 1, 1, 1, 1, 1, 1, 1,\n",
       "       1, 2, 1, 2, 2, 2, 1, 1, 1, 1, 2, 2, 1, 2, 1, 1, 2, 2, 1, 2, 1, 2,\n",
       "       1, 2, 1, 1, 1, 2, 1, 1, 1, 1, 1, 1, 1, 2, 1, 1, 1, 1, 2, 1, 1, 2,\n",
       "       1, 1, 2, 1, 1, 2, 1, 1, 1, 1, 1, 1, 1, 1, 1, 1, 1, 1, 1, 1, 1, 1,\n",
       "       2, 1, 1, 1, 1, 1, 1, 1, 1, 1, 1, 2, 2, 1, 1, 1, 1, 1, 1, 2, 2, 1,\n",
       "       2, 1, 1, 2, 1, 2, 2, 1, 1, 1, 1, 1, 1, 1, 1, 1, 1, 1, 1, 2, 1, 1])"
      ]
     },
     "execution_count": 129,
     "metadata": {},
     "output_type": "execute_result"
    }
   ],
   "source": [
    "# Store the Channel column in a separate variable\n",
    "channel = df['Channel'].to_numpy()\n",
    "channel"
   ]
  },
  {
   "cell_type": "markdown",
   "metadata": {},
   "source": [
    "## drop the Channel and Region columns from the dataframe."
   ]
  },
  {
   "cell_type": "code",
   "execution_count": 130,
   "metadata": {},
   "outputs": [
    {
     "data": {
      "text/html": [
       "<div>\n",
       "<style scoped>\n",
       "    .dataframe tbody tr th:only-of-type {\n",
       "        vertical-align: middle;\n",
       "    }\n",
       "\n",
       "    .dataframe tbody tr th {\n",
       "        vertical-align: top;\n",
       "    }\n",
       "\n",
       "    .dataframe thead th {\n",
       "        text-align: right;\n",
       "    }\n",
       "</style>\n",
       "<table border=\"1\" class=\"dataframe\">\n",
       "  <thead>\n",
       "    <tr style=\"text-align: right;\">\n",
       "      <th></th>\n",
       "      <th>Fresh</th>\n",
       "      <th>Milk</th>\n",
       "      <th>Grocery</th>\n",
       "      <th>Frozen</th>\n",
       "      <th>Detergents_Paper</th>\n",
       "      <th>Delicassen</th>\n",
       "    </tr>\n",
       "  </thead>\n",
       "  <tbody>\n",
       "    <tr>\n",
       "      <th>0</th>\n",
       "      <td>12669</td>\n",
       "      <td>9656</td>\n",
       "      <td>7561</td>\n",
       "      <td>214</td>\n",
       "      <td>2674</td>\n",
       "      <td>1338</td>\n",
       "    </tr>\n",
       "    <tr>\n",
       "      <th>1</th>\n",
       "      <td>7057</td>\n",
       "      <td>9810</td>\n",
       "      <td>9568</td>\n",
       "      <td>1762</td>\n",
       "      <td>3293</td>\n",
       "      <td>1776</td>\n",
       "    </tr>\n",
       "    <tr>\n",
       "      <th>2</th>\n",
       "      <td>6353</td>\n",
       "      <td>8808</td>\n",
       "      <td>7684</td>\n",
       "      <td>2405</td>\n",
       "      <td>3516</td>\n",
       "      <td>7844</td>\n",
       "    </tr>\n",
       "    <tr>\n",
       "      <th>3</th>\n",
       "      <td>13265</td>\n",
       "      <td>1196</td>\n",
       "      <td>4221</td>\n",
       "      <td>6404</td>\n",
       "      <td>507</td>\n",
       "      <td>1788</td>\n",
       "    </tr>\n",
       "    <tr>\n",
       "      <th>4</th>\n",
       "      <td>22615</td>\n",
       "      <td>5410</td>\n",
       "      <td>7198</td>\n",
       "      <td>3915</td>\n",
       "      <td>1777</td>\n",
       "      <td>5185</td>\n",
       "    </tr>\n",
       "    <tr>\n",
       "      <th>...</th>\n",
       "      <td>...</td>\n",
       "      <td>...</td>\n",
       "      <td>...</td>\n",
       "      <td>...</td>\n",
       "      <td>...</td>\n",
       "      <td>...</td>\n",
       "    </tr>\n",
       "    <tr>\n",
       "      <th>435</th>\n",
       "      <td>29703</td>\n",
       "      <td>12051</td>\n",
       "      <td>16027</td>\n",
       "      <td>13135</td>\n",
       "      <td>182</td>\n",
       "      <td>2204</td>\n",
       "    </tr>\n",
       "    <tr>\n",
       "      <th>436</th>\n",
       "      <td>39228</td>\n",
       "      <td>1431</td>\n",
       "      <td>764</td>\n",
       "      <td>4510</td>\n",
       "      <td>93</td>\n",
       "      <td>2346</td>\n",
       "    </tr>\n",
       "    <tr>\n",
       "      <th>437</th>\n",
       "      <td>14531</td>\n",
       "      <td>15488</td>\n",
       "      <td>30243</td>\n",
       "      <td>437</td>\n",
       "      <td>14841</td>\n",
       "      <td>1867</td>\n",
       "    </tr>\n",
       "    <tr>\n",
       "      <th>438</th>\n",
       "      <td>10290</td>\n",
       "      <td>1981</td>\n",
       "      <td>2232</td>\n",
       "      <td>1038</td>\n",
       "      <td>168</td>\n",
       "      <td>2125</td>\n",
       "    </tr>\n",
       "    <tr>\n",
       "      <th>439</th>\n",
       "      <td>2787</td>\n",
       "      <td>1698</td>\n",
       "      <td>2510</td>\n",
       "      <td>65</td>\n",
       "      <td>477</td>\n",
       "      <td>52</td>\n",
       "    </tr>\n",
       "  </tbody>\n",
       "</table>\n",
       "<p>440 rows × 6 columns</p>\n",
       "</div>"
      ],
      "text/plain": [
       "     Fresh   Milk  Grocery  Frozen  Detergents_Paper  Delicassen\n",
       "0    12669   9656     7561     214              2674        1338\n",
       "1     7057   9810     9568    1762              3293        1776\n",
       "2     6353   8808     7684    2405              3516        7844\n",
       "3    13265   1196     4221    6404               507        1788\n",
       "4    22615   5410     7198    3915              1777        5185\n",
       "..     ...    ...      ...     ...               ...         ...\n",
       "435  29703  12051    16027   13135               182        2204\n",
       "436  39228   1431      764    4510                93        2346\n",
       "437  14531  15488    30243     437             14841        1867\n",
       "438  10290   1981     2232    1038               168        2125\n",
       "439   2787   1698     2510      65               477          52\n",
       "\n",
       "[440 rows x 6 columns]"
      ]
     },
     "execution_count": 130,
     "metadata": {},
     "output_type": "execute_result"
    }
   ],
   "source": [
    "# drop the Channel and Region columns from the dataframe.\n",
    "df = df.drop(['Channel', 'Region'], axis=1)\n",
    "df"
   ]
  },
  {
   "cell_type": "markdown",
   "metadata": {},
   "source": [
    "## Scale the data"
   ]
  },
  {
   "cell_type": "code",
   "execution_count": 131,
   "metadata": {},
   "outputs": [],
   "source": [
    "# Scale the data\n",
    "from sklearn.preprocessing import StandardScaler"
   ]
  },
  {
   "cell_type": "code",
   "execution_count": 132,
   "metadata": {},
   "outputs": [
    {
     "data": {
      "text/plain": [
       "array([[ 0.05293319,  0.52356777, -0.04111489, -0.58936716, -0.04356873,\n",
       "        -0.06633906],\n",
       "       [-0.39130197,  0.54445767,  0.17031835, -0.27013618,  0.08640684,\n",
       "         0.08915105],\n",
       "       [-0.44702926,  0.40853771, -0.0281571 , -0.13753572,  0.13323164,\n",
       "         2.24329255],\n",
       "       ...,\n",
       "       [ 0.20032554,  1.31467078,  2.34838631, -0.54337975,  2.51121768,\n",
       "         0.12145607],\n",
       "       [-0.13538389, -0.51753572, -0.60251388, -0.41944059, -0.56977032,\n",
       "         0.21304614],\n",
       "       [-0.72930698, -0.5559243 , -0.57322717, -0.62009417, -0.50488752,\n",
       "        -0.52286938]])"
      ]
     },
     "execution_count": 132,
     "metadata": {},
     "output_type": "execute_result"
    }
   ],
   "source": [
    "std = StandardScaler()\n",
    "scaled_data = std.fit_transform(df) \n",
    "scaled_data"
   ]
  },
  {
   "cell_type": "code",
   "execution_count": 141,
   "metadata": {},
   "outputs": [
    {
     "data": {
      "text/plain": [
       "<matplotlib.collections.PathCollection at 0x13087f070>"
      ]
     },
     "execution_count": 141,
     "metadata": {},
     "output_type": "execute_result"
    },
    {
     "data": {
      "image/png": "[encoded data removed]",
      "text/plain": [
       "<Figure size 432x288 with 1 Axes>"
      ]
     },
     "metadata": {
      "needs_background": "light"
     },
     "output_type": "display_data"
    }
   ],
   "source": [
    "plt.title('KMeans without PCA')\n",
    "plt.scatter(scaled_data[:,0],scaled_data[:, 1], c=channel)"
   ]
  },
  {
   "cell_type": "markdown",
   "metadata": {},
   "source": [
    "## use PCA to engineer new features (Principal Components)."
   ]
  },
  {
   "cell_type": "code",
   "execution_count": 133,
   "metadata": {},
   "outputs": [],
   "source": [
    "#use PCA to engineer new features (Principal Components).\n",
    "from sklearn.decomposition import PCA"
   ]
  },
  {
   "cell_type": "code",
   "execution_count": 134,
   "metadata": {},
   "outputs": [],
   "source": [
    "pca = PCA(n_components=2)"
   ]
  },
  {
   "cell_type": "code",
   "execution_count": 135,
   "metadata": {},
   "outputs": [],
   "source": [
    "#find the principle component, reduce the dimension to 2d\n",
    "x = pca.fit_transform(scaled_data)\n"
   ]
  },
  {
   "cell_type": "markdown",
   "metadata": {},
   "source": [
    "## Print out the explained variance for each principal component."
   ]
  },
  {
   "cell_type": "code",
   "execution_count": 32,
   "metadata": {},
   "outputs": [
    {
     "data": {
      "text/plain": [
       "array([1.64995904e+08, 1.45452098e+08])"
      ]
     },
     "execution_count": 32,
     "metadata": {},
     "output_type": "execute_result"
    }
   ],
   "source": [
    "pca.explained_variance_"
   ]
  },
  {
   "cell_type": "code",
   "execution_count": 70,
   "metadata": {},
   "outputs": [
    {
     "data": {
      "text/plain": [
       "array([0.38750123, 0.22374588])"
      ]
     },
     "execution_count": 70,
     "metadata": {},
     "output_type": "execute_result"
    }
   ],
   "source": [
    "pca.explained_variance_ratio_"
   ]
  },
  {
   "cell_type": "code",
   "execution_count": 71,
   "metadata": {},
   "outputs": [
    {
     "data": {
      "text/plain": [
       "array([0.38750123, 0.61124711])"
      ]
     },
     "execution_count": 71,
     "metadata": {},
     "output_type": "execute_result"
    }
   ],
   "source": [
    "pca.explained_variance_ratio_.cumsum()"
   ]
  },
  {
   "cell_type": "code",
   "execution_count": 73,
   "metadata": {},
   "outputs": [
    {
     "name": "stdout",
     "output_type": "stream",
     "text": [
      "Correlation of PCA Component:\n",
      "(-2.5305278705811673e-16, 1.000000000000096)\n"
     ]
    }
   ],
   "source": [
    "import scipy\n",
    "print('Correlation of PCA Component:')\n",
    "print(scipy.stats.pearsonr(x[:, 0], x[:, 1]))"
   ]
  },
  {
   "cell_type": "code",
   "execution_count": 122,
   "metadata": {},
   "outputs": [
    {
     "name": "stdout",
     "output_type": "stream",
     "text": [
      "[[ 8.43938928e-01 -5.15350749e-01]\n",
      " [ 1.06267645e+00 -4.84601258e-01]\n",
      " [ 1.26914052e+00  6.82054553e-01]\n",
      " [-1.05678239e+00  6.10821496e-01]\n",
      " [ 6.34030484e-01  9.74198836e-01]\n",
      " [ 5.30110898e-01 -5.85411382e-01]\n",
      " [ 3.99560245e-01 -8.46342878e-01]\n",
      " [ 7.91165650e-01 -4.61140175e-01]\n",
      " [-6.63831131e-01 -5.77465454e-01]\n",
      " [ 2.15068480e+00 -6.17913981e-01]\n",
      " [ 1.25599389e+00 -5.12452434e-01]\n",
      " [-1.68210612e-01 -6.88796117e-01]\n",
      " [ 1.43985588e+00  6.08852947e-01]\n",
      " [ 1.40695611e+00 -1.60564663e-01]\n",
      " [ 1.37395999e+00  6.85013841e-02]\n",
      " [-1.07181521e+00 -5.19859188e-01]\n",
      " [ 1.25801233e+00 -1.12165441e+00]\n",
      " [-6.18599013e-01  2.82406711e-01]\n",
      " [ 8.67093429e-01  2.20448419e-01]\n",
      " [-4.84666795e-01 -5.76463994e-01]\n",
      " [ 3.31514687e-01 -1.94171620e-01]\n",
      " [-1.25444108e+00 -3.05734448e-01]\n",
      " [-6.95754707e-01  2.16418147e+00]\n",
      " [ 4.39775590e+00  4.21042140e+00]\n",
      " [ 1.62598808e+00  1.01240557e+00]\n",
      " [ 5.60921448e-01 -8.02422215e-01]\n",
      " [-1.20698069e+00 -1.02988290e-01]\n",
      " [-1.23311912e+00 -3.11522300e-01]\n",
      " [ 3.47037385e+00  1.18665418e-01]\n",
      " [-1.10781036e+00  1.01558177e+00]\n",
      " [-2.43193798e-01  4.35933737e-01]\n",
      " [-8.80566064e-01 -4.21044834e-01]\n",
      " [-1.13898263e+00 -6.70010933e-02]\n",
      " [-7.38978586e-01  1.21399222e+00]\n",
      " [-1.14077873e+00 -8.37545454e-01]\n",
      " [ 9.14873066e-01 -1.25652051e+00]\n",
      " [-5.84111029e-01  1.33301355e+00]\n",
      " [ 1.54906332e+00 -4.00206145e-01]\n",
      " [ 2.18698222e+00 -9.85036383e-01]\n",
      " [-1.36015171e+00  3.00016677e+00]\n",
      " [-5.56519557e-01  2.27003616e+00]\n",
      " [-5.36414536e-01  5.06634625e-01]\n",
      " [ 1.51975498e+00 -1.00980166e+00]\n",
      " [ 2.56579071e+00 -1.32350138e+00]\n",
      " [ 9.82453754e-01 -9.63619054e-01]\n",
      " [ 3.16438749e+00  2.70749389e-01]\n",
      " [ 2.41108225e+00 -6.99711900e-01]\n",
      " [ 8.98154211e+00  3.32545298e+00]\n",
      " [ 1.08258585e+00 -6.53689622e-01]\n",
      " [ 4.00281168e+00 -6.37087372e-01]\n",
      " [-1.12702656e+00  8.29496862e-02]\n",
      " [-6.31958167e-01 -7.76487416e-01]\n",
      " [ 3.08074081e-01  4.96010262e-01]\n",
      " [ 1.39985556e+00 -1.21191645e+00]\n",
      " [-1.23262805e+00  6.28116939e-01]\n",
      " [-6.75010777e-01 -4.62460105e-01]\n",
      " [ 4.89677248e+00 -4.06283607e-01]\n",
      " [ 1.57824937e+00 -9.61703151e-01]\n",
      " [-1.22747324e+00 -3.03083091e-01]\n",
      " [-2.47309025e-01 -4.33865626e-01]\n",
      " [ 5.35089161e-01 -1.12694741e+00]\n",
      " [ 8.24935962e+00  1.07255000e+00]\n",
      " [ 6.84431497e-01 -4.31249069e-01]\n",
      " [ 1.97103939e+00 -4.09189897e-01]\n",
      " [-1.03229481e+00 -2.01209256e-01]\n",
      " [ 6.13619660e+00 -1.30055541e+00]\n",
      " [-5.66795680e-01 -1.09147386e+00]\n",
      " [ 1.21183045e+00 -3.37870777e-01]\n",
      " [-5.46974616e-01  5.15352599e-01]\n",
      " [-1.15299529e+00 -5.43436505e-01]\n",
      " [-1.16112356e+00  1.22305633e+00]\n",
      " [ 1.04066784e+00  2.98318432e+00]\n",
      " [-8.93289709e-01  3.39513249e-01]\n",
      " [ 3.16799159e-01  5.42713209e-01]\n",
      " [ 7.00114326e-01 -5.57583237e-01]\n",
      " [-1.40391766e+00  5.17781804e-01]\n",
      " [-8.04095882e-01  1.33234878e-01]\n",
      " [ 3.23226059e+00 -6.88871202e-01]\n",
      " [-1.26580903e+00 -3.17534071e-01]\n",
      " [-8.29933953e-01 -5.23543905e-01]\n",
      " [-1.16181873e+00 -6.23889246e-01]\n",
      " [ 1.74422861e+00 -1.37695569e+00]\n",
      " [ 1.16660521e+00 -3.92078235e-01]\n",
      " [-1.21570068e+00  2.39931450e-01]\n",
      " [ 3.33684714e-01 -8.64159414e-01]\n",
      " [ 1.22897154e+01 -1.45229640e-03]\n",
      " [ 8.20252856e+00  1.22880216e+00]\n",
      " [ 2.03986967e-01  4.27271504e+00]\n",
      " [-1.25840670e+00  4.59378657e-01]\n",
      " [-7.53667547e-01  1.05895944e+00]\n",
      " [-1.35053923e+00 -1.11964574e-01]\n",
      " [-1.09077603e+00  7.85010657e-01]\n",
      " [ 5.36927081e+00  4.91799649e-01]\n",
      " [-1.22445370e+00  4.26623083e+00]\n",
      " [ 1.43164229e+00 -1.00172206e+00]\n",
      " [-8.62081189e-01 -8.08020128e-01]\n",
      " [ 5.14485046e-01 -1.47724785e+00]\n",
      " [-1.41172232e+00 -9.38063436e-01]\n",
      " [-1.40805503e+00 -9.10312458e-01]\n",
      " [-1.22993585e+00  1.30453992e-01]\n",
      " [ 1.65427024e+00 -6.04589997e-02]\n",
      " [ 1.90356305e+00 -7.89200897e-01]\n",
      " [ 8.61480762e-01 -7.52643676e-01]\n",
      " [-6.52590422e-01  3.94162426e+00]\n",
      " [-9.75122547e-01 -2.07652330e-01]\n",
      " [-1.11786791e+00 -3.94661686e-02]\n",
      " [ 1.31698303e+00 -1.08884109e+00]\n",
      " [ 2.01368685e+00 -5.17077775e-01]\n",
      " [ 7.27701075e-01 -1.01358160e+00]\n",
      " [ 2.24899097e+00 -9.45438768e-01]\n",
      " [-1.18749790e+00  4.42451735e-02]\n",
      " [ 1.92651896e+00 -4.77228702e-01]\n",
      " [-1.02995772e+00  1.36537979e+00]\n",
      " [-1.11401824e+00  2.57270920e-01]\n",
      " [-1.24889114e+00  2.44458043e-01]\n",
      " [-1.21972020e+00 -1.53922863e-01]\n",
      " [-1.09944137e+00 -3.25240480e-01]\n",
      " [-8.34058248e-01 -2.66014442e-01]\n",
      " [-1.18477232e+00  6.18544048e-01]\n",
      " [-1.16859782e+00 -7.74487635e-02]\n",
      " [-1.16021850e+00  1.67679593e-01]\n",
      " [-1.15269865e+00 -4.79637463e-01]\n",
      " [-1.42345370e+00 -1.58894068e-01]\n",
      " [ 8.30343667e-01 -5.12807325e-01]\n",
      " [-1.14549553e+00  1.32138257e+00]\n",
      " [-9.57470922e-01  4.29823619e+00]\n",
      " [-1.27697569e+00  8.49054835e-01]\n",
      " [ 8.94383759e-01  1.27806216e-01]\n",
      " [-5.65390636e-01 -8.26357769e-01]\n",
      " [-1.26543845e+00  1.22188108e+00]\n",
      " [-1.22738470e+00  2.25924163e-01]\n",
      " [-1.39141808e+00 -8.65411212e-01]\n",
      " [-1.10490009e+00 -2.97830593e-01]\n",
      " [-1.29998314e+00 -5.33039160e-01]\n",
      " [-1.20525961e+00 -5.26920009e-01]\n",
      " [-1.21609886e+00 -5.76852395e-01]\n",
      " [-1.95322903e-01  1.43473696e-01]\n",
      " [-4.07505278e-01 -6.53705068e-01]\n",
      " [-7.17296906e-01  2.29877227e-01]\n",
      " [-8.48681129e-01 -4.50940586e-01]\n",
      " [-5.68971363e-01  5.12077562e-01]\n",
      " [-2.92909341e-01  8.45689399e-01]\n",
      " [-6.30381410e-01  9.97124232e-01]\n",
      " [-1.31235211e+00  4.80150069e-01]\n",
      " [-1.08754734e+00 -1.60892159e-01]\n",
      " [ 3.55500882e+00  1.17094326e-01]\n",
      " [-1.20178756e+00 -4.88630075e-01]\n",
      " [-9.73116340e-01 -3.71281396e-01]\n",
      " [-1.37873318e+00 -2.39315731e-01]\n",
      " [-1.25299762e+00  6.32733618e-01]\n",
      " [-1.20599518e+00 -5.55205023e-02]\n",
      " [-1.01206360e+00 -5.28600072e-01]\n",
      " [-1.20802283e+00  1.27649249e-01]\n",
      " [-6.20745464e-01 -2.74150471e-01]\n",
      " [-1.45576370e+00 -1.02893550e+00]\n",
      " [ 2.63121492e+00 -1.00129003e+00]\n",
      " [ 1.54247866e+00 -7.43582981e-01]\n",
      " [-1.18168372e+00  1.63455247e-01]\n",
      " [ 9.43260086e-01 -8.83092117e-01]\n",
      " [ 1.67795919e+00 -1.38757820e+00]\n",
      " [ 1.01340116e+00 -9.47318714e-01]\n",
      " [-1.31637717e+00  1.00945320e-02]\n",
      " [-1.10669204e+00  3.89718058e-02]\n",
      " [ 3.49010236e+00 -8.40610302e-01]\n",
      " [ 8.15743294e-01 -8.25428893e-01]\n",
      " [ 2.24841670e+00  2.75697685e-01]\n",
      " [ 1.14445480e+00 -4.45663566e-01]\n",
      " [-8.59280938e-01 -7.23162399e-01]\n",
      " [-1.36033676e+00 -5.60806887e-01]\n",
      " [-1.27283026e+00 -3.94621327e-01]\n",
      " [ 1.54980161e+00 -1.24466415e+00]\n",
      " [ 3.56021010e+00  2.46550438e-01]\n",
      " [-3.94827889e-01 -7.78234411e-01]\n",
      " [ 2.17972187e+00 -1.28723748e+00]\n",
      " [-1.00753589e+00 -4.49159461e-01]\n",
      " [ 1.18124249e+00 -9.80034840e-01]\n",
      " [-6.04525608e-01  1.88205316e+00]\n",
      " [-6.18838474e-01  3.64291839e-01]\n",
      " [-7.24709967e-01 -2.13719678e-01]\n",
      " [-8.87918474e-01  1.46274644e-01]\n",
      " [-2.87574160e-01  1.39039976e-01]\n",
      " [ 2.18224045e+00  7.84082496e+00]\n",
      " [ 4.41665965e-01 -9.01598604e-01]\n",
      " [ 5.03618824e+00  1.51726591e+01]\n",
      " [-1.10510142e+00 -1.02893172e+00]\n",
      " [-9.96276811e-01 -2.43463003e-01]\n",
      " [-1.26529161e+00 -3.92449804e-01]\n",
      " [-5.97778143e-02 -7.40234544e-02]\n",
      " [ 1.34429052e+00 -7.35224329e-01]\n",
      " [ 1.39388757e+00 -8.75338265e-01]\n",
      " [-1.01497283e+00  7.00000777e-01]\n",
      " [-1.39271659e+00 -3.81849343e-01]\n",
      " [-1.21526262e+00 -6.64031686e-01]\n",
      " [ 1.47106036e+00 -1.31767172e+00]\n",
      " [-1.14669462e+00 -4.46136647e-01]\n",
      " [-7.84138049e-01  1.05222178e+00]\n",
      " [-7.14550033e-01  3.07564037e+00]\n",
      " [ 9.78127613e-01 -1.02258822e+00]\n",
      " [-9.45606152e-01 -1.00908483e-01]\n",
      " [-1.22250545e+00 -6.03988195e-01]\n",
      " [ 2.65219695e+00 -7.76044539e-01]\n",
      " [ 3.34173339e+00 -6.64407707e-01]\n",
      " [ 9.57913080e-02  2.06745865e+00]\n",
      " [-1.25929101e+00 -1.10042140e+00]\n",
      " [-1.11203344e+00 -6.57830573e-01]\n",
      " [ 2.52511043e+00 -1.25009605e+00]\n",
      " [-1.39646687e+00 -7.43820064e-01]\n",
      " [ 6.02984582e-01 -1.13807907e+00]\n",
      " [-5.54888714e-01 -7.22217870e-01]\n",
      " [ 2.54860467e+00 -1.10973403e+00]\n",
      " [-1.22835720e+00  2.39950374e-01]\n",
      " [ 5.70100148e+00  2.59019779e-01]\n",
      " [-1.24110590e+00 -3.67331905e-01]\n",
      " [-2.25954371e-01 -5.73355623e-01]\n",
      " [ 1.14050841e+00 -1.23742027e+00]\n",
      " [ 8.07046205e-01 -3.05965741e-01]\n",
      " [ 4.01256298e+00 -1.27219509e+00]\n",
      " [-1.28967808e+00  1.20336499e-01]\n",
      " [ 1.62054729e+00 -1.78312202e-01]\n",
      " [-1.43386639e+00 -6.95534263e-01]\n",
      " [-1.38502643e+00 -1.98078615e-01]\n",
      " [ 1.48640053e-02 -8.08516542e-01]\n",
      " [-1.30370486e+00  3.64450671e-02]\n",
      " [-2.82565380e-02 -5.13107318e-01]\n",
      " [-1.37653439e+00 -6.46235514e-01]\n",
      " [-9.86679926e-01 -3.65600925e-01]\n",
      " [ 6.08043684e-01 -1.70552334e-01]\n",
      " [-1.25331079e+00 -5.50205626e-01]\n",
      " [-9.34932704e-01 -1.05265986e+00]\n",
      " [-1.13840344e+00  2.52972839e-01]\n",
      " [ 2.44847889e-01  3.93667869e-01]\n",
      " [-4.39684496e-01 -5.59361351e-01]\n",
      " [-1.17499899e+00  1.52249690e-01]\n",
      " [-9.84741117e-01 -8.97103582e-01]\n",
      " [-1.01172627e+00  5.25928233e-01]\n",
      " [-8.20545668e-01 -7.53863862e-01]\n",
      " [-1.27835094e+00 -4.91993569e-01]\n",
      " [-1.24188211e+00  4.84215392e-01]\n",
      " [-1.46795146e+00 -6.90716921e-01]\n",
      " [-1.05634468e+00  1.86699434e+00]\n",
      " [-8.29600691e-01  1.68638344e+00]\n",
      " [-1.23178526e+00  3.42054321e-01]\n",
      " [-1.28486238e+00  1.31938595e-01]\n",
      " [-7.11599604e-01 -1.47344841e-01]\n",
      " [ 2.24071882e-02 -2.81171407e-01]\n",
      " [ 1.70609185e+00 -1.00430032e+00]\n",
      " [-1.21962063e+00 -4.28738798e-01]\n",
      " [-1.47721252e+00 -2.39471959e-01]\n",
      " [-9.94387351e-01 -2.33454587e-01]\n",
      " [-1.10660837e+00  5.97417060e-02]\n",
      " [-1.25037274e+00 -6.54144274e-01]\n",
      " [ 5.06336070e+00  5.69101813e-01]\n",
      " [-1.08205042e+00  3.93409198e-01]\n",
      " [-3.89943506e-05  5.35619485e-01]\n",
      " [ 2.05964987e-01  8.92365133e-01]\n",
      " [-1.44974441e+00  6.29373649e-01]\n",
      " [-8.71719183e-01 -4.76028544e-01]\n",
      " [-8.94702649e-01 -7.39583834e-02]\n",
      " [-9.94133603e-01  2.62205044e+00]\n",
      " [-7.67857322e-01  1.61471398e+00]\n",
      " [-9.96817703e-01 -5.45942641e-01]\n",
      " [-1.43296279e+00  5.81457502e-02]\n",
      " [-1.31459250e+00  3.74005314e-02]\n",
      " [-7.69712754e-01 -5.32439742e-01]\n",
      " [ 1.61053022e+00 -1.22135683e+00]\n",
      " [ 9.87196078e-01  1.61431524e+00]\n",
      " [ 1.93947634e+00 -7.07931837e-01]\n",
      " [-1.07919141e+00  8.57063489e-01]\n",
      " [ 1.73679525e+00 -8.24488375e-01]\n",
      " [-1.44708370e+00 -2.15308580e-01]\n",
      " [-1.42751893e+00 -2.80052905e-01]\n",
      " [-1.02412420e+00 -5.28283947e-01]\n",
      " [-5.39949505e-01 -6.71873301e-01]\n",
      " [-1.15979370e+00  1.44065204e+00]\n",
      " [-1.10831927e+00 -6.94115096e-01]\n",
      " [-1.32429497e+00 -8.19141499e-01]\n",
      " [-7.02500131e-01  1.17192665e+00]\n",
      " [-1.42091992e+00  1.40327435e+00]\n",
      " [-1.12067682e+00  4.45582904e-01]\n",
      " [ 8.52481480e-01 -2.42673917e-01]\n",
      " [-1.07337227e+00 -5.27001009e-01]\n",
      " [ 6.05817526e-01 -3.46192720e-01]\n",
      " [-9.09650243e-01  2.00363429e+00]\n",
      " [-1.12004922e+00  1.59340049e+00]\n",
      " [-4.38666129e-01  3.34646804e+00]\n",
      " [-1.26008389e+00  7.04158487e-01]\n",
      " [-1.13376500e+00 -5.23101096e-01]\n",
      " [-1.15138502e+00  8.21128631e-01]\n",
      " [-1.32888608e+00 -2.48719085e-01]\n",
      " [-1.51107946e+00  8.53393567e-01]\n",
      " [-9.91516877e-01 -5.73356744e-01]\n",
      " [-1.03054466e+00 -2.99950940e-01]\n",
      " [-8.99952422e-01 -2.19909802e-01]\n",
      " [ 1.52116260e+00 -1.00002281e+00]\n",
      " [-8.49360441e-01  2.34238133e-01]\n",
      " [ 7.53452855e-02 -1.16033702e+00]\n",
      " [-1.13516520e+00  2.11008545e-01]\n",
      " [ 4.32377731e-01 -9.64168045e-01]\n",
      " [ 8.14674403e-01 -9.72005120e-01]\n",
      " [-1.28103314e+00 -1.00731201e+00]\n",
      " [ 5.50877075e-01 -3.10463634e-01]\n",
      " [ 2.37813832e+00 -9.61316394e-01]\n",
      " [ 1.02209919e+00 -1.31260138e+00]\n",
      " [ 1.53911646e+00 -1.54866920e+00]\n",
      " [ 2.73057946e+00 -1.13594256e+00]\n",
      " [ 1.18731808e+00 -1.15901115e+00]\n",
      " [ 2.36179500e+00 -6.33099924e-01]\n",
      " [-1.13422886e+00 -4.74781157e-02]\n",
      " [-1.21288254e+00 -6.43758460e-01]\n",
      " [ 2.30274491e+00 -8.01416108e-01]\n",
      " [-1.26011547e+00  9.43598993e-01]\n",
      " [-9.11007135e-01  5.25115158e-01]\n",
      " [ 2.62077634e+00 -1.63895678e+00]\n",
      " [-1.31270146e+00 -1.05508129e-01]\n",
      " [-8.14912554e-01 -2.54490465e-01]\n",
      " [ 1.68187027e+00 -4.46870673e-01]\n",
      " [-1.24538240e+00 -2.70104873e-01]\n",
      " [-7.76585158e-01 -5.84847028e-01]\n",
      " [-1.07902986e+00 -3.18961065e-01]\n",
      " [ 3.46154050e+00 -3.50295857e-01]\n",
      " [-1.05950144e+00 -7.35140628e-01]\n",
      " [-1.02937446e+00 -1.65037346e-01]\n",
      " [-1.14495173e+00 -9.89222543e-04]\n",
      " [-5.96942114e-01 -3.85610763e-01]\n",
      " [-1.11583388e+00  5.24356775e-01]\n",
      " [ 3.78086110e-01  9.13304100e+00]\n",
      " [-1.25312702e+00 -3.23315827e-01]\n",
      " [-1.31006089e+00 -9.29155896e-01]\n",
      " [-1.13440639e+00  8.69248530e-01]\n",
      " [-1.08849929e+00 -1.22785481e-01]\n",
      " [-1.05551923e+00 -4.97156882e-02]\n",
      " [ 2.98278799e+00 -5.98144401e-01]\n",
      " [-1.09622108e+00  6.31520421e-01]\n",
      " [ 7.78516364e+00 -1.85732283e+00]\n",
      " [-2.32204199e-01  1.21168488e+00]\n",
      " [ 9.80709265e-01  1.88325895e-01]\n",
      " [-1.29654457e+00 -2.90198837e-01]\n",
      " [-1.23411300e+00  4.45051357e-01]\n",
      " [-1.14299522e+00  8.91803631e-01]\n",
      " [-1.00853012e+00  5.37225623e-01]\n",
      " [ 1.13192045e+00 -1.26307368e+00]\n",
      " [ 1.14022141e+00 -8.88337504e-01]\n",
      " [-1.80765952e-01 -7.23464836e-01]\n",
      " [ 3.07605807e+00 -1.47363723e+00]\n",
      " [-1.26537576e+00 -5.72095134e-01]\n",
      " [-3.92565343e-01 -9.43760192e-01]\n",
      " [ 1.54331498e+00 -8.39721533e-01]\n",
      " [ 1.10338996e+00  2.17158479e-01]\n",
      " [-1.04478613e+00 -6.02619450e-01]\n",
      " [ 2.89693841e+00 -8.52839907e-01]\n",
      " [-1.22386173e+00 -4.90742870e-01]\n",
      " [ 2.91636208e+00 -7.09956682e-01]\n",
      " [-1.29380793e+00 -8.75909505e-01]\n",
      " [ 2.06914517e+00 -1.32661364e+00]\n",
      " [-6.30694807e-01  8.98066796e-01]\n",
      " [-1.28032206e+00 -9.90674790e-01]\n",
      " [-1.47752596e+00  3.48840379e-01]\n",
      " [ 1.53771218e+00 -1.62134221e+00]\n",
      " [ 8.81081918e-02  9.93346914e-01]\n",
      " [-9.01865770e-01 -6.89283013e-01]\n",
      " [-1.14311596e+00  2.15894882e-01]\n",
      " [-1.35442203e+00 -6.37558225e-01]\n",
      " [-1.17126216e+00 -7.38869193e-01]\n",
      " [-9.96861314e-01 -8.05509830e-01]\n",
      " [-1.25238665e+00 -7.26562615e-01]\n",
      " [ 9.56445617e-01 -4.78961115e-01]\n",
      " [-1.20569252e+00 -3.94904668e-01]\n",
      " [-1.34708967e+00 -6.63949484e-01]\n",
      " [-1.26728097e+00  2.25923698e-01]\n",
      " [-1.40362661e+00 -6.16822854e-01]\n",
      " [ 8.37822911e-02  7.90604255e-01]\n",
      " [-1.20130327e+00  9.31105723e-01]\n",
      " [-8.15920988e-01  2.07216792e-01]\n",
      " [ 6.23777286e-01  7.86991949e-04]\n",
      " [-1.17467909e+00 -4.42845793e-01]\n",
      " [-1.26653892e+00 -7.15246252e-01]\n",
      " [ 1.32818273e+00 -3.07552665e-01]\n",
      " [-1.11482012e+00  9.55090912e-01]\n",
      " [-1.08260302e+00 -6.01359331e-01]\n",
      " [ 4.59948825e-01 -1.17590587e+00]\n",
      " [-1.28337543e+00  6.16931275e-01]\n",
      " [-1.11851969e+00  1.09050948e+00]\n",
      " [-2.36675736e-01  1.34828171e+00]\n",
      " [-1.14745966e+00 -4.09337105e-01]\n",
      " [ 1.09721459e+00  1.36962292e+00]\n",
      " [-1.27165329e+00 -5.60116907e-02]\n",
      " [-9.91156459e-01 -5.06996093e-01]\n",
      " [-1.22673431e+00  2.51633699e-01]\n",
      " [-1.32997653e+00 -3.69111975e-01]\n",
      " [-1.26020245e+00 -1.50608797e-01]\n",
      " [-1.26347962e+00 -4.42633567e-02]\n",
      " [-1.05165281e+00 -4.29421627e-01]\n",
      " [-9.47555658e-01 -7.30595435e-01]\n",
      " [-8.26721349e-01  1.27738078e+00]\n",
      " [-1.22045858e+00 -2.89257299e-01]\n",
      " [-1.23831993e+00 -2.49775764e-01]\n",
      " [ 1.22502098e+00 -3.38535710e-01]\n",
      " [-1.29350277e+00  4.22694863e-01]\n",
      " [-1.40091807e+00  1.30879489e-01]\n",
      " [-1.33221407e+00 -4.05478328e-01]\n",
      " [-1.29311032e+00 -2.36145468e-01]\n",
      " [-1.18074247e+00  2.08817842e+00]\n",
      " [-9.06589900e-01  2.31342335e-01]\n",
      " [-4.63882147e-01  3.31186549e-01]\n",
      " [-8.95644790e-01  4.34521298e-01]\n",
      " [-1.27253282e+00 -4.48867941e-01]\n",
      " [-7.94681853e-01  1.44030613e+00]\n",
      " [ 2.19887177e+00 -6.10689230e-01]\n",
      " [ 3.54962265e-01 -8.69175858e-01]\n",
      " [-3.85588236e-01  5.88998810e-01]\n",
      " [-7.80316735e-01 -2.61678029e-01]\n",
      " [-8.01757523e-01  1.16831766e-01]\n",
      " [-2.04409580e-01 -1.02485735e+00]\n",
      " [-6.56577847e-01  1.88737334e+00]\n",
      " [-1.05066699e+00 -5.09646618e-02]\n",
      " [ 7.94824090e-01 -5.53117768e-01]\n",
      " [ 1.55411865e+00 -9.10026111e-01]\n",
      " [-5.48336612e-02 -5.60009113e-01]\n",
      " [ 1.83306401e+00 -1.26564511e+00]\n",
      " [-8.56291254e-01 -2.77454771e-01]\n",
      " [ 4.42195043e-01 -6.56968350e-01]\n",
      " [ 7.12547803e-01 -3.06769113e-01]\n",
      " [-1.02464709e+00  3.49313034e-01]\n",
      " [ 1.45574165e-01 -4.81527760e-01]\n",
      " [ 6.54844277e-01 -6.72392227e-01]\n",
      " [-1.16015721e+00  1.68590821e+00]\n",
      " [ 5.67737036e-01  3.28450072e-01]\n",
      " [-1.24936117e-01  2.70711872e+00]\n",
      " [-7.12582509e-01 -4.73277824e-01]\n",
      " [-1.01348742e+00 -1.93808933e-01]\n",
      " [-1.24466141e-01 -3.79594948e-01]\n",
      " [-6.81938010e-01  1.32647444e+00]\n",
      " [-9.97946333e-01 -1.05947594e-01]\n",
      " [-1.06458937e+00 -4.43639835e-01]\n",
      " [-4.90380866e-01 -1.01682145e-01]\n",
      " [ 2.22884223e-01  2.48050462e+00]\n",
      " [-1.29017158e+00  1.56039742e+00]\n",
      " [ 3.86514909e+00 -4.79853755e-01]\n",
      " [-1.09706738e+00 -6.98956773e-02]\n",
      " [-1.16595067e+00 -9.02156751e-01]]\n"
     ]
    }
   ],
   "source": [
    "# plt.scatter([:, 0], x[:, 1], s=50);\n",
    "print(x)"
   ]
  },
  {
   "cell_type": "markdown",
   "metadata": {},
   "source": [
    "# K-Means, but Without All the Supervision"
   ]
  },
  {
   "cell_type": "markdown",
   "metadata": {},
   "source": [
    "### Channel will act as our labels to tell us what class of customer each datapoint actually is, in case we want to check the accuracy of our clustering.\n",
    "## Scale the data, fit a k-means object to it, and then visualize the data and the clustering."
   ]
  },
  {
   "cell_type": "code",
   "execution_count": 106,
   "metadata": {},
   "outputs": [],
   "source": [
    "from sklearn.cluster import KMeans"
   ]
  },
  {
   "cell_type": "code",
   "execution_count": 115,
   "metadata": {},
   "outputs": [],
   "source": [
    "kmeans = KMeans(n_clusters=2, random_state=0)\n",
    "k_fit = kmeans.fit(scaled_data)"
   ]
  },
  {
   "cell_type": "code",
   "execution_count": 116,
   "metadata": {},
   "outputs": [],
   "source": [
    "y_kmeans = kmeans.predict(scaled_data)"
   ]
  },
  {
   "cell_type": "code",
   "execution_count": 117,
   "metadata": {},
   "outputs": [
    {
     "data": {
      "text/plain": [
       "array([0, 0, 0, 1, 0, 0, 0, 0, 1, 0, 0, 1, 0, 0, 0, 1, 0, 1, 0, 1, 0, 1,\n",
       "       1, 0, 0, 0, 1, 1, 0, 1, 1, 1, 1, 1, 1, 0, 1, 0, 0, 1, 1, 1, 0, 0,\n",
       "       0, 0, 0, 0, 0, 0, 1, 1, 1, 0, 1, 1, 0, 0, 1, 1, 0, 0, 0, 0, 1, 0,\n",
       "       1, 0, 1, 1, 1, 1, 1, 1, 0, 1, 1, 0, 1, 1, 1, 0, 0, 1, 0, 0, 0, 1,\n",
       "       1, 1, 1, 1, 0, 1, 0, 1, 0, 1, 1, 1, 0, 0, 0, 1, 1, 1, 0, 0, 0, 0,\n",
       "       1, 0, 1, 1, 1, 1, 1, 1, 1, 1, 1, 1, 1, 0, 1, 1, 1, 0, 1, 1, 1, 1,\n",
       "       1, 1, 1, 1, 1, 1, 1, 1, 1, 1, 1, 1, 1, 0, 1, 1, 1, 1, 1, 1, 1, 1,\n",
       "       1, 0, 0, 1, 0, 0, 0, 1, 1, 0, 0, 0, 0, 1, 1, 1, 0, 0, 1, 0, 1, 0,\n",
       "       1, 1, 1, 1, 1, 1, 1, 0, 1, 1, 1, 1, 0, 0, 1, 1, 1, 0, 1, 1, 1, 0,\n",
       "       1, 1, 0, 0, 1, 1, 1, 0, 1, 0, 1, 0, 1, 0, 1, 1, 0, 1, 0, 1, 0, 1,\n",
       "       1, 1, 1, 1, 1, 1, 0, 1, 1, 1, 1, 1, 1, 1, 1, 1, 1, 1, 1, 1, 1, 1,\n",
       "       1, 1, 1, 0, 1, 1, 1, 1, 1, 0, 1, 1, 1, 1, 1, 1, 1, 1, 1, 1, 1, 1,\n",
       "       0, 1, 0, 1, 0, 1, 1, 1, 1, 1, 1, 1, 1, 1, 1, 0, 1, 0, 1, 1, 1, 1,\n",
       "       1, 1, 1, 1, 1, 1, 1, 0, 1, 0, 1, 0, 0, 1, 0, 0, 0, 0, 0, 0, 0, 1,\n",
       "       1, 0, 1, 1, 0, 1, 1, 0, 1, 1, 1, 0, 1, 1, 1, 1, 1, 1, 1, 1, 1, 1,\n",
       "       1, 0, 1, 0, 1, 0, 1, 1, 1, 1, 0, 0, 1, 0, 1, 1, 0, 0, 1, 0, 1, 0,\n",
       "       1, 0, 1, 1, 1, 0, 1, 1, 1, 1, 1, 1, 1, 0, 1, 1, 1, 1, 1, 1, 1, 0,\n",
       "       1, 1, 0, 1, 1, 0, 1, 1, 1, 1, 1, 1, 1, 1, 1, 1, 1, 1, 1, 1, 1, 1,\n",
       "       0, 1, 1, 1, 1, 1, 1, 1, 1, 1, 1, 0, 0, 1, 1, 1, 1, 1, 1, 0, 0, 1,\n",
       "       0, 1, 1, 0, 1, 0, 0, 1, 1, 1, 1, 1, 1, 1, 1, 1, 1, 1, 1, 0, 1, 1],\n",
       "      dtype=int32)"
      ]
     },
     "execution_count": 117,
     "metadata": {},
     "output_type": "execute_result"
    }
   ],
   "source": [
    "kmeans.labels_"
   ]
  },
  {
   "cell_type": "markdown",
   "metadata": {},
   "source": [
    "## visualize the data and the clustering."
   ]
  },
  {
   "cell_type": "code",
   "execution_count": 123,
   "metadata": {},
   "outputs": [
    {
     "data": {
      "text/plain": [
       "<matplotlib.collections.PathCollection at 0x1303e66a0>"
      ]
     },
     "execution_count": 123,
     "metadata": {},
     "output_type": "execute_result"
    },
    {
     "data": {
      "image/png": "[encoded data removed]",
      "text/plain": [
       "<Figure size 432x288 with 1 Axes>"
      ]
     },
     "metadata": {
      "needs_background": "light"
     },
     "output_type": "display_data"
    }
   ],
   "source": [
    "\n",
    "plt.scatter(scaled_data[:, 0],scaled_data[:, 4], c=y_kmeans, cmap='viridis')\n",
    "\n",
    "centers = kmeans.cluster_centers_\n",
    "plt.scatter(centers[:, 0], centers[:, 1], c='black', alpha=0.5)"
   ]
  },
  {
   "cell_type": "markdown",
   "metadata": {},
   "source": [
    "## Use PCA to transform the data, and then use k-means clustering on it to see if our results are any better.\n",
    "\n"
   ]
  },
  {
   "cell_type": "code",
   "execution_count": 113,
   "metadata": {},
   "outputs": [
    {
     "data": {
      "text/plain": [
       "<matplotlib.collections.PathCollection at 0x12f114e50>"
      ]
     },
     "execution_count": 113,
     "metadata": {},
     "output_type": "execute_result"
    },
    {
     "data": {
      "image/png": "[encoded data removed]",
      "text/plain": [
       "<Figure size 432x288 with 1 Axes>"
      ]
     },
     "metadata": {
      "needs_background": "light"
     },
     "output_type": "display_data"
    }
   ],
   "source": [
    "plt.scatter(x[:,0],x[:, 1], c=kmeans.labels_)\n",
    "plt.scatter(centers[:, 0], centers[:, 1], c='black', s=200, alpha=0.5)"
   ]
  },
  {
   "cell_type": "code",
   "execution_count": null,
   "metadata": {},
   "outputs": [],
   "source": []
  }
 ],
 "metadata": {
  "kernelspec": {
   "display_name": "Python 3",
   "language": "python",
   "name": "python3"
  },
  "language_info": {
   "codemirror_mode": {
    "name": "ipython",
    "version": 3
   },
   "file_extension": ".py",
   "mimetype": "text/x-python",
   "name": "python",
   "nbconvert_exporter": "python",
   "pygments_lexer": "ipython3",
   "version": "3.8.5"
  }
 },
 "nbformat": 4,
 "nbformat_minor": 4
}
